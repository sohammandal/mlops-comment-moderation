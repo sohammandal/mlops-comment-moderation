{
 "cells": [
  {
   "cell_type": "code",
   "execution_count": 1,
   "id": "004e4396",
   "metadata": {},
   "outputs": [],
   "source": [
    "import os\n",
    "import mlflow\n",
    "import mlflow.sklearn\n",
    "import pandas as pd\n",
    "import joblib\n",
    "from sklearn.feature_extraction.text import TfidfVectorizer, HashingVectorizer, TfidfTransformer\n",
    "from sklearn.pipeline import Pipeline\n",
    "from sklearn.linear_model import LogisticRegression, SGDClassifier\n",
    "from sklearn.svm import LinearSVC\n",
    "from sklearn.naive_bayes import ComplementNB\n",
    "from sklearn.calibration import CalibratedClassifierCV\n",
    "from sklearn.metrics import f1_score, classification_report\n",
    "from datetime import datetime"
   ]
  },
  {
   "cell_type": "code",
   "execution_count": null,
   "id": "a1ba629e",
   "metadata": {},
   "outputs": [
    {
     "name": "stderr",
     "output_type": "stream",
     "text": [
      "2025/08/07 18:58:01 INFO mlflow.tracking.fluent: Experiment with name 'toxic_comment_baselines' does not exist. Creating a new experiment.\n"
     ]
    }
   ],
   "source": [
    "# Point MLflow to local folder\n",
    "mlflow.set_tracking_uri(\"file://\" + os.path.abspath(\"../mlruns\"))\n",
    "mlflow.set_experiment(\"toxic_comment_baselines\")\n",
    "\n",
    "# =========================\n",
    "# 2. Load toxic dataset\n",
    "# =========================\n",
    "train_df = pd.read_csv(\"../assets/comments_train.csv\")\n",
    "test_df = pd.read_csv(\"../assets/comments_test.csv\")\n",
    "\n",
    "X_train = train_df[\"comment_text\"]\n",
    "y_train = train_df[\"moderation_label\"]\n",
    "\n",
    "X_test = test_df[\"comment_text\"]\n",
    "y_test = test_df[\"moderation_label\"]"
   ]
  },
  {
   "cell_type": "code",
   "execution_count": 3,
   "id": "163f0376",
   "metadata": {},
   "outputs": [],
   "source": [
    "# =========================\n",
    "# 3. Model configs\n",
    "# =========================\n",
    "configs = [\n",
    "    {\n",
    "        \"name\": \"tfidf_word12_logreg_balanced\",\n",
    "        \"vectorizer\": TfidfVectorizer(ngram_range=(1,2), lowercase=True, max_features=200000),\n",
    "        \"model\": LogisticRegression(max_iter=1000, class_weight=\"balanced\", solver=\"lbfgs\", C=1.0)\n",
    "    },\n",
    "    {\n",
    "        \"name\": \"tfidf_char35_logreg_balanced\",\n",
    "        \"vectorizer\": TfidfVectorizer(analyzer=\"char\", ngram_range=(3,5), lowercase=True, max_features=300000),\n",
    "        \"model\": LogisticRegression(max_iter=1000, class_weight=\"balanced\", solver=\"lbfgs\", C=1.0)\n",
    "    },\n",
    "    {\n",
    "        \"name\": \"tfidf_char35_linearSVC_balanced\",\n",
    "        \"vectorizer\": TfidfVectorizer(analyzer=\"char\", ngram_range=(3,5), lowercase=True, max_features=300000),\n",
    "        \"model\": LinearSVC(class_weight=\"balanced\", C=1.0)\n",
    "    },\n",
    "    {\n",
    "        \"name\": \"tfidf_char35_complementNB\",\n",
    "        \"vectorizer\": TfidfVectorizer(analyzer=\"char\", ngram_range=(3,5), lowercase=True, max_features=300000),\n",
    "        \"model\": ComplementNB(alpha=0.5)\n",
    "    },\n",
    "    {\n",
    "        \"name\": \"hashing_sgd_logloss\",\n",
    "        \"vectorizer\": Pipeline([\n",
    "            (\"hash\", HashingVectorizer(ngram_range=(1,2), lowercase=True, n_features=2**18, alternate_sign=False)),\n",
    "            (\"tfidf\", TfidfTransformer())\n",
    "        ]),\n",
    "        \"model\": SGDClassifier(loss=\"log_loss\", alpha=1e-4, max_iter=1000)\n",
    "    },\n",
    "    {\n",
    "        \"name\": \"linearSVC_char35_calibrated\",\n",
    "        \"vectorizer\": TfidfVectorizer(analyzer=\"char\", ngram_range=(3,5), lowercase=True, max_features=300000),\n",
    "        \"model\": CalibratedClassifierCV(\n",
    "            estimator=LinearSVC(class_weight=\"balanced\", C=1.0),\n",
    "            method=\"sigmoid\",\n",
    "            cv=5\n",
    "        )\n",
    "    }\n",
    "]"
   ]
  },
  {
   "cell_type": "code",
   "execution_count": 4,
   "id": "c65ce434",
   "metadata": {},
   "outputs": [
    {
     "name": "stdout",
     "output_type": "stream",
     "text": [
      "Running: tfidf_word12_logreg_balanced\n",
      "F1 (weighted): 0.9015 | F1 (macro): 0.7688\n",
      "              precision    recall  f1-score   support\n",
      "\n",
      "           0       0.99      0.89      0.93     57735\n",
      "           1       0.46      0.89      0.60      6243\n",
      "\n",
      "    accuracy                           0.89     63978\n",
      "   macro avg       0.72      0.89      0.77     63978\n",
      "weighted avg       0.93      0.89      0.90     63978\n",
      "\n"
     ]
    },
    {
     "name": "stderr",
     "output_type": "stream",
     "text": [
      "2025/08/07 18:58:29 WARNING mlflow.models.model: `artifact_path` is deprecated. Please use `name` instead.\n",
      "2025/08/07 18:58:31 WARNING mlflow.utils.environment: Failed to resolve installed pip version. ``pip`` will be added to conda.yaml environment spec without a version specifier.\n",
      "\u001b[31m2025/08/07 18:58:31 WARNING mlflow.models.model: Model logged without a signature and input example. Please set `input_example` parameter when logging the model to auto infer the model signature.\u001b[0m\n"
     ]
    },
    {
     "name": "stdout",
     "output_type": "stream",
     "text": [
      "Running: tfidf_char35_logreg_balanced\n",
      "F1 (weighted): 0.8927 | F1 (macro): 0.7571\n",
      "              precision    recall  f1-score   support\n",
      "\n",
      "           0       0.99      0.87      0.93     57735\n",
      "           1       0.43      0.92      0.59      6243\n",
      "\n",
      "    accuracy                           0.87     63978\n",
      "   macro avg       0.71      0.90      0.76     63978\n",
      "weighted avg       0.94      0.87      0.89     63978\n",
      "\n"
     ]
    },
    {
     "name": "stderr",
     "output_type": "stream",
     "text": [
      "2025/08/07 19:00:12 WARNING mlflow.models.model: `artifact_path` is deprecated. Please use `name` instead.\n",
      "2025/08/07 19:00:14 WARNING mlflow.utils.environment: Failed to resolve installed pip version. ``pip`` will be added to conda.yaml environment spec without a version specifier.\n",
      "\u001b[31m2025/08/07 19:00:14 WARNING mlflow.models.model: Model logged without a signature and input example. Please set `input_example` parameter when logging the model to auto infer the model signature.\u001b[0m\n"
     ]
    },
    {
     "name": "stdout",
     "output_type": "stream",
     "text": [
      "Running: tfidf_char35_linearSVC_balanced\n",
      "F1 (weighted): 0.9117 | F1 (macro): 0.7868\n",
      "              precision    recall  f1-score   support\n",
      "\n",
      "           0       0.99      0.90      0.94     57735\n",
      "           1       0.49      0.88      0.63      6243\n",
      "\n",
      "    accuracy                           0.90     63978\n",
      "   macro avg       0.74      0.89      0.79     63978\n",
      "weighted avg       0.94      0.90      0.91     63978\n",
      "\n"
     ]
    },
    {
     "name": "stderr",
     "output_type": "stream",
     "text": [
      "2025/08/07 19:02:06 WARNING mlflow.models.model: `artifact_path` is deprecated. Please use `name` instead.\n",
      "2025/08/07 19:02:09 WARNING mlflow.utils.environment: Failed to resolve installed pip version. ``pip`` will be added to conda.yaml environment spec without a version specifier.\n",
      "\u001b[31m2025/08/07 19:02:09 WARNING mlflow.models.model: Model logged without a signature and input example. Please set `input_example` parameter when logging the model to auto infer the model signature.\u001b[0m\n"
     ]
    },
    {
     "name": "stdout",
     "output_type": "stream",
     "text": [
      "Running: tfidf_char35_complementNB\n",
      "F1 (weighted): 0.8797 | F1 (macro): 0.7194\n",
      "              precision    recall  f1-score   support\n",
      "\n",
      "           0       0.97      0.87      0.92     57735\n",
      "           1       0.39      0.77      0.52      6243\n",
      "\n",
      "    accuracy                           0.86     63978\n",
      "   macro avg       0.68      0.82      0.72     63978\n",
      "weighted avg       0.92      0.86      0.88     63978\n",
      "\n"
     ]
    },
    {
     "name": "stderr",
     "output_type": "stream",
     "text": [
      "2025/08/07 19:03:42 WARNING mlflow.models.model: `artifact_path` is deprecated. Please use `name` instead.\n",
      "2025/08/07 19:03:45 WARNING mlflow.utils.environment: Failed to resolve installed pip version. ``pip`` will be added to conda.yaml environment spec without a version specifier.\n",
      "\u001b[31m2025/08/07 19:03:45 WARNING mlflow.models.model: Model logged without a signature and input example. Please set `input_example` parameter when logging the model to auto infer the model signature.\u001b[0m\n"
     ]
    },
    {
     "name": "stdout",
     "output_type": "stream",
     "text": [
      "Running: hashing_sgd_logloss\n"
     ]
    },
    {
     "name": "stderr",
     "output_type": "stream",
     "text": [
      "2025/08/07 19:03:53 WARNING mlflow.models.model: `artifact_path` is deprecated. Please use `name` instead.\n"
     ]
    },
    {
     "name": "stdout",
     "output_type": "stream",
     "text": [
      "F1 (weighted): 0.8886 | F1 (macro): 0.6116\n",
      "              precision    recall  f1-score   support\n",
      "\n",
      "           0       0.92      1.00      0.96     57735\n",
      "           1       0.93      0.16      0.27      6243\n",
      "\n",
      "    accuracy                           0.92     63978\n",
      "   macro avg       0.92      0.58      0.61     63978\n",
      "weighted avg       0.92      0.92      0.89     63978\n",
      "\n"
     ]
    },
    {
     "name": "stderr",
     "output_type": "stream",
     "text": [
      "2025/08/07 19:03:55 WARNING mlflow.utils.environment: Failed to resolve installed pip version. ``pip`` will be added to conda.yaml environment spec without a version specifier.\n",
      "\u001b[31m2025/08/07 19:03:55 WARNING mlflow.models.model: Model logged without a signature and input example. Please set `input_example` parameter when logging the model to auto infer the model signature.\u001b[0m\n"
     ]
    },
    {
     "name": "stdout",
     "output_type": "stream",
     "text": [
      "Running: linearSVC_char35_calibrated\n",
      "F1 (weighted): 0.9312 | F1 (macro): 0.8186\n",
      "              precision    recall  f1-score   support\n",
      "\n",
      "           0       0.98      0.94      0.96     57735\n",
      "           1       0.59      0.80      0.68      6243\n",
      "\n",
      "    accuracy                           0.93     63978\n",
      "   macro avg       0.78      0.87      0.82     63978\n",
      "weighted avg       0.94      0.93      0.93     63978\n",
      "\n"
     ]
    },
    {
     "name": "stderr",
     "output_type": "stream",
     "text": [
      "2025/08/07 19:06:39 WARNING mlflow.models.model: `artifact_path` is deprecated. Please use `name` instead.\n",
      "2025/08/07 19:06:41 WARNING mlflow.utils.environment: Failed to resolve installed pip version. ``pip`` will be added to conda.yaml environment spec without a version specifier.\n",
      "\u001b[31m2025/08/07 19:06:41 WARNING mlflow.models.model: Model logged without a signature and input example. Please set `input_example` parameter when logging the model to auto infer the model signature.\u001b[0m\n"
     ]
    },
    {
     "name": "stdout",
     "output_type": "stream",
     "text": [
      "✅ All runs completed. Start MLflow UI with: mlflow ui --port 5000\n"
     ]
    }
   ],
   "source": [
    "# =========================\n",
    "# 4. Train, evaluate, log each\n",
    "# =========================\n",
    "for cfg in configs:\n",
    "    print(f\"Running: {cfg['name']}\")\n",
    "    with mlflow.start_run(run_name=cfg[\"name\"]):\n",
    "        # Build pipeline\n",
    "        pipeline = Pipeline([\n",
    "            (\"vectorizer\", cfg[\"vectorizer\"]),\n",
    "            (\"model\", cfg[\"model\"])\n",
    "        ])\n",
    "\n",
    "        # Fit\n",
    "        pipeline.fit(X_train, y_train)\n",
    "\n",
    "        # Predict\n",
    "        preds = pipeline.predict(X_test)\n",
    "\n",
    "        # Metrics\n",
    "        f1_w = f1_score(y_test, preds, average=\"weighted\")\n",
    "        f1_m = f1_score(y_test, preds, average=\"macro\")\n",
    "        print(f\"F1 (weighted): {f1_w:.4f} | F1 (macro): {f1_m:.4f}\")\n",
    "        print(classification_report(y_test, preds))\n",
    "\n",
    "        # Log params\n",
    "        mlflow.log_param(\"vectorizer\", cfg[\"vectorizer\"].__class__.__name__)\n",
    "        mlflow.log_param(\"model\", cfg[\"model\"].__class__.__name__)\n",
    "        mlflow.log_metric(\"f1_weighted\", f1_w)\n",
    "        mlflow.log_metric(\"f1_macro\", f1_m)\n",
    "\n",
    "        # Save artifacts\n",
    "        model_path = f\"{cfg['name']}_{datetime.now().strftime('%Y%m%d_%H%M%S')}.joblib\"\n",
    "        joblib.dump(pipeline, model_path)\n",
    "        mlflow.log_artifact(model_path)\n",
    "\n",
    "        mlflow.sklearn.log_model(pipeline, artifact_path=\"model\")\n",
    "\n",
    "print(\"✅ All runs completed. Start MLflow UI with: mlflow ui --port 5000\")\n"
   ]
  },
  {
   "cell_type": "code",
   "execution_count": null,
   "id": "78469554",
   "metadata": {},
   "outputs": [],
   "source": []
  }
 ],
 "metadata": {
  "kernelspec": {
   "display_name": "mlops-comment-moderation",
   "language": "python",
   "name": "python3"
  },
  "language_info": {
   "codemirror_mode": {
    "name": "ipython",
    "version": 3
   },
   "file_extension": ".py",
   "mimetype": "text/x-python",
   "name": "python",
   "nbconvert_exporter": "python",
   "pygments_lexer": "ipython3",
   "version": "3.11.12"
  }
 },
 "nbformat": 4,
 "nbformat_minor": 5
}
